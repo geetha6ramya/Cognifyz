{
  "nbformat": 4,
  "nbformat_minor": 0,
  "metadata": {
    "colab": {
      "provenance": []
    },
    "kernelspec": {
      "name": "python3",
      "display_name": "Python 3"
    },
    "language_info": {
      "name": "python"
    }
  },
  "cells": [
    {
      "cell_type": "code",
      "execution_count": null,
      "metadata": {
        "id": "SpFpDAIpIij_"
      },
      "outputs": [],
      "source": [
        "#TASK2-1"
      ]
    },
    {
      "cell_type": "code",
      "source": [
        "import numpy as np\n",
        "import pandas as pd\n",
        "import matplotlib.pyplot as plt\n",
        "import tensorflow as tf\n"
      ],
      "metadata": {
        "id": "n191qCT7NPRY"
      },
      "execution_count": null,
      "outputs": []
    },
    {
      "cell_type": "code",
      "source": [
        "import pandas as pd\n",
        "\n",
        "# Load the dataset\n",
        "df = pd.read_csv('/content/Dataset .csv')\n",
        "\n",
        "# Calculate the percentage of restaurants offering table booking\n",
        "table_booking_counts = df['Has Table booking'].value_counts(normalize=True) * 100\n",
        "print(\"Percentage of Restaurants Offering Table Booking:\")\n",
        "print(table_booking_counts)\n",
        "\n",
        "# Calculate the percentage of restaurants offering online delivery\n",
        "online_delivery_counts = df['Has Online delivery'].value_counts(normalize=True) * 100\n",
        "print(\"\\nPercentage of Restaurants Offering Online Delivery:\")\n",
        "print(online_delivery_counts)\n"
      ],
      "metadata": {
        "id": "5vol1ZshIrZP",
        "colab": {
          "base_uri": "https://localhost:8080/"
        },
        "outputId": "80b367ed-f519-48e3-c91e-7ba66b7caa2e"
      },
      "execution_count": null,
      "outputs": [
        {
          "output_type": "stream",
          "name": "stdout",
          "text": [
            "Percentage of Restaurants Offering Table Booking:\n",
            "Has Table booking\n",
            "No     87.875615\n",
            "Yes    12.124385\n",
            "Name: proportion, dtype: float64\n",
            "\n",
            "Percentage of Restaurants Offering Online Delivery:\n",
            "Has Online delivery\n",
            "No     74.337766\n",
            "Yes    25.662234\n",
            "Name: proportion, dtype: float64\n"
          ]
        }
      ]
    },
    {
      "cell_type": "code",
      "source": [
        "# Calculate average ratings for restaurants with and without table booking\n",
        "average_rating_with_table_booking = df[df['Has Table booking'] == 'Yes']['Aggregate rating'].mean()\n",
        "average_rating_without_table_booking = df[df['Has Table booking'] == 'No']['Aggregate rating'].mean()\n",
        "\n",
        "print(\"\\nAverage Rating of Restaurants Offering Table Booking:\", average_rating_with_table_booking)\n",
        "print(\"Average Rating of Restaurants Not Offering Table Booking:\", average_rating_without_table_booking)\n"
      ],
      "metadata": {
        "colab": {
          "base_uri": "https://localhost:8080/"
        },
        "id": "DDGg2p4iMfEI",
        "outputId": "5247ed1c-a98a-4dbf-c38a-350af74ca032"
      },
      "execution_count": null,
      "outputs": [
        {
          "output_type": "stream",
          "name": "stdout",
          "text": [
            "\n",
            "Average Rating of Restaurants Offering Table Booking: 3.4419689119170984\n",
            "Average Rating of Restaurants Not Offering Table Booking: 2.559358989634219\n"
          ]
        }
      ]
    },
    {
      "cell_type": "code",
      "source": [
        "import matplotlib.pyplot as plt\n",
        "import seaborn as sns\n",
        "\n",
        "# Create a new column for price range as a categorical variable if it is not already\n",
        "if df['Price range'].dtype != 'category':\n",
        "    df['Price range'] = df['Price range'].astype('category')\n",
        "\n",
        "# Analyze the availability of online delivery across different price ranges\n",
        "online_delivery_by_price_range = df.groupby('Price range')['Has Online delivery'].value_counts(normalize=True).unstack() * 100\n",
        "\n",
        "# Plot the availability of online delivery by price range\n",
        "plt.figure(figsize=(10, 6))\n",
        "online_delivery_by_price_range.plot(kind='bar', stacked=True)\n",
        "plt.title('Online Delivery Availability by Price Range')\n",
        "plt.xlabel('Price Range')\n",
        "plt.ylabel('Percentage of Restaurants')\n",
        "plt.legend(title='Has Online Delivery')\n",
        "plt.show()\n"
      ],
      "metadata": {
        "colab": {
          "base_uri": "https://localhost:8080/",
          "height": 484
        },
        "id": "F0Pt0jYPMhey",
        "outputId": "e28aa552-ce12-494c-ffcd-a7ea61a6bf3e"
      },
      "execution_count": null,
      "outputs": [
        {
          "output_type": "display_data",
          "data": {
            "text/plain": [
              "<Figure size 1000x600 with 0 Axes>"
            ]
          },
          "metadata": {}
        },
        {
          "output_type": "display_data",
          "data": {
            "text/plain": [
              "<Figure size 640x480 with 1 Axes>"
            ],
            "image/png": "[encoded data removed]"
          },
          "metadata": {}
        }
      ]
    },
    {
      "cell_type": "code",
      "source": [
        "#TASK2-2\n"
      ],
      "metadata": {
        "id": "EaeA3onmNJQh"
      },
      "execution_count": null,
      "outputs": []
    },
    {
      "cell_type": "code",
      "source": [
        "import pandas as pd\n",
        "\n",
        "# Load the dataset\n",
        "df = pd.read_csv('/content/Dataset .csv')\n",
        "\n",
        "# Determine the most common price range\n",
        "most_common_price_range = df['Price range'].mode()[0]\n",
        "print(\"Most Common Price Range:\", most_common_price_range)\n"
      ],
      "metadata": {
        "colab": {
          "base_uri": "https://localhost:8080/"
        },
        "id": "hfyZwksUNY8H",
        "outputId": "887284e0-59d4-49e5-b567-987cef2a9ce0"
      },
      "execution_count": null,
      "outputs": [
        {
          "output_type": "stream",
          "name": "stdout",
          "text": [
            "Most Common Price Range: 1\n"
          ]
        }
      ]
    },
    {
      "cell_type": "code",
      "source": [
        "# Calculate the average rating for each price range\n",
        "average_rating_by_price_range = df.groupby('Price range')['Aggregate rating'].mean()\n",
        "print(\"\\nAverage Rating for Each Price Range:\")\n",
        "print(average_rating_by_price_range)\n"
      ],
      "metadata": {
        "colab": {
          "base_uri": "https://localhost:8080/"
        },
        "id": "kucy8pRxNrVQ",
        "outputId": "c71aa180-7e9a-4d5a-fa3c-7ed9f3c69f95"
      },
      "execution_count": null,
      "outputs": [
        {
          "output_type": "stream",
          "name": "stdout",
          "text": [
            "\n",
            "Average Rating for Each Price Range:\n",
            "Price range\n",
            "1    1.999887\n",
            "2    2.941054\n",
            "3    3.683381\n",
            "4    3.817918\n",
            "Name: Aggregate rating, dtype: float64\n"
          ]
        }
      ]
    },
    {
      "cell_type": "code",
      "source": [
        "# Identify the color that represents the highest average rating among different price ranges\n",
        "# Assuming 'Rating color' is the color associated with the average rating\n",
        "average_rating_by_price_range_with_color = df.groupby('Price range').agg({\n",
        "    'Aggregate rating': 'mean',\n",
        "    'Rating color': lambda x: x.mode()[0]  # Assuming the most common color is chosen if multiple\n",
        "}).reset_index()\n",
        "\n",
        "# Find the price range with the highest average rating\n",
        "highest_avg_rating = average_rating_by_price_range_with_color['Aggregate rating'].max()\n",
        "color_with_highest_avg_rating = average_rating_by_price_range_with_color[\n",
        "    average_rating_by_price_range_with_color['Aggregate rating'] == highest_avg_rating\n",
        "]['Rating color'].values[0]\n",
        "\n",
        "print(\"\\nColor Representing the Highest Average Rating Among Different Price Ranges:\")\n",
        "print(color_with_highest_avg_rating)\n"
      ],
      "metadata": {
        "colab": {
          "base_uri": "https://localhost:8080/"
        },
        "id": "BIyASwZYNtCp",
        "outputId": "85a7a9c7-fe37-4fdc-822f-d2446b7ccf73"
      },
      "execution_count": null,
      "outputs": [
        {
          "output_type": "stream",
          "name": "stdout",
          "text": [
            "\n",
            "Color Representing the Highest Average Rating Among Different Price Ranges:\n",
            "Yellow\n"
          ]
        }
      ]
    },
    {
      "cell_type": "code",
      "source": [
        "#TASK2-3"
      ],
      "metadata": {
        "id": "GwvDkCYDOA8h"
      },
      "execution_count": null,
      "outputs": []
    },
    {
      "cell_type": "code",
      "source": [
        "\n",
        "\n",
        "# Extract the length of the restaurant name\n",
        "df['Restaurant Name Length'] = df['Restaurant Name'].apply(len)\n",
        "\n",
        "# Extract the length of the address\n",
        "df['Address Length'] = df['Address'].apply(len)\n",
        "\n",
        "# Display the first few rows to verify the new features\n",
        "print(df[['Restaurant Name', 'Restaurant Name Length', 'Address', 'Address Length']].head())\n"
      ],
      "metadata": {
        "colab": {
          "base_uri": "https://localhost:8080/"
        },
        "id": "SFD9GdjSOD2o",
        "outputId": "e14e4950-42bd-49ae-b497-a9ae56b1b121"
      },
      "execution_count": null,
      "outputs": [
        {
          "output_type": "stream",
          "name": "stdout",
          "text": [
            "          Restaurant Name  Restaurant Name Length  \\\n",
            "0        Le Petit Souffle                      16   \n",
            "1        Izakaya Kikufuji                      16   \n",
            "2  Heat - Edsa Shangri-La                      22   \n",
            "3                    Ooma                       4   \n",
            "4             Sambo Kojin                      11   \n",
            "\n",
            "                                             Address  Address Length  \n",
            "0  Third Floor, Century City Mall, Kalayaan Avenu...              71  \n",
            "1  Little Tokyo, 2277 Chino Roces Avenue, Legaspi...              67  \n",
            "2  Edsa Shangri-La, 1 Garden Way, Ortigas, Mandal...              56  \n",
            "3  Third Floor, Mega Fashion Hall, SM Megamall, O...              70  \n",
            "4  Third Floor, Mega Atrium, SM Megamall, Ortigas...              64  \n"
          ]
        }
      ]
    },
    {
      "cell_type": "code",
      "source": [
        "# Encode \"Has Table booking\" (Yes/No) to binary (1/0)\n",
        "df['Has Table Booking'] = df['Has Table booking'].map({'Yes': 1, 'No': 0})\n",
        "\n",
        "# Encode \"Has Online delivery\" (Yes/No) to binary (1/0)\n",
        "df['Has Online Delivery'] = df['Has Online delivery'].map({'Yes': 1, 'No': 0})\n",
        "\n",
        "# Display the first few rows to verify the new features\n",
        "print(df[['Has Table booking', 'Has Table Booking', 'Has Online delivery', 'Has Online Delivery']].head())\n"
      ],
      "metadata": {
        "colab": {
          "base_uri": "https://localhost:8080/"
        },
        "id": "CUe1veOiOaj0",
        "outputId": "6b824147-7a52-438d-82e0-57def7a90ec5"
      },
      "execution_count": null,
      "outputs": [
        {
          "output_type": "stream",
          "name": "stdout",
          "text": [
            "  Has Table booking  Has Table Booking Has Online delivery  \\\n",
            "0               Yes                  1                  No   \n",
            "1               Yes                  1                  No   \n",
            "2               Yes                  1                  No   \n",
            "3                No                  0                  No   \n",
            "4               Yes                  1                  No   \n",
            "\n",
            "   Has Online Delivery  \n",
            "0                    0  \n",
            "1                    0  \n",
            "2                    0  \n",
            "3                    0  \n",
            "4                    0  \n"
          ]
        }
      ]
    },
    {
      "cell_type": "code",
      "source": [],
      "metadata": {
        "id": "mYW9THMLOrAX"
      },
      "execution_count": null,
      "outputs": []
    }
  ]
}